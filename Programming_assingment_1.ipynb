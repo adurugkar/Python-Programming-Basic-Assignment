{
 "cells": [
  {
   "cell_type": "markdown",
   "id": "72cb9c39",
   "metadata": {},
   "source": [
    "## Q. write a python program to print 'Hello python'?"
   ]
  },
  {
   "cell_type": "code",
   "execution_count": 1,
   "id": "f95c68c9",
   "metadata": {},
   "outputs": [
    {
     "name": "stdout",
     "output_type": "stream",
     "text": [
      "Hello\n"
     ]
    }
   ],
   "source": [
    "print('Hello')"
   ]
  },
  {
   "cell_type": "markdown",
   "id": "a588423c",
   "metadata": {},
   "source": [
    "### Q2.Write a Python program to do arithmetical operations addition and division.?"
   ]
  },
  {
   "cell_type": "code",
   "execution_count": 2,
   "id": "8e8b7c73",
   "metadata": {},
   "outputs": [],
   "source": [
    "def add(a,b):\n",
    "    return a+b\n",
    "\n",
    "def divide(a,b):\n",
    "    try:\n",
    "        return (a/b)\n",
    "    except Exception as e:\n",
    "        print(e)"
   ]
  },
  {
   "cell_type": "code",
   "execution_count": 3,
   "id": "e98d1506",
   "metadata": {},
   "outputs": [
    {
     "data": {
      "text/plain": [
       "60"
      ]
     },
     "execution_count": 3,
     "metadata": {},
     "output_type": "execute_result"
    }
   ],
   "source": [
    "add(4,56)"
   ]
  },
  {
   "cell_type": "code",
   "execution_count": 4,
   "id": "848153e2",
   "metadata": {},
   "outputs": [
    {
     "data": {
      "text/plain": [
       "17.0"
      ]
     },
     "execution_count": 4,
     "metadata": {},
     "output_type": "execute_result"
    }
   ],
   "source": [
    "divide(85,5)"
   ]
  },
  {
   "cell_type": "markdown",
   "id": "f12e0c8a",
   "metadata": {},
   "source": [
    "### Q3.Write a Python program to find the area of a triangle?"
   ]
  },
  {
   "cell_type": "code",
   "execution_count": 5,
   "id": "08115ef8",
   "metadata": {},
   "outputs": [
    {
     "name": "stdout",
     "output_type": "stream",
     "text": [
      "Enter the base of Triangle : 4\n",
      "Enter the height of Triangle : 8\n",
      "Base4, Height 8 and Area of Triangle of 16.0 \n"
     ]
    }
   ],
   "source": [
    "base=int(input('Enter the base of Triangle : '))\n",
    "height= int(input('Enter the height of Triangle : '))\n",
    "area_of_triangle =(base*height)/2\n",
    "print('Base{}, Height {} and Area of Triangle of {} '.format(base,height, area_of_triangle) )"
   ]
  },
  {
   "cell_type": "markdown",
   "id": "bd0454c6",
   "metadata": {},
   "source": [
    "### Q4.Write a Python program to swap two variables?"
   ]
  },
  {
   "cell_type": "code",
   "execution_count": 6,
   "id": "adb34f3f",
   "metadata": {},
   "outputs": [
    {
     "name": "stdout",
     "output_type": "stream",
     "text": [
      "First Variable = 9\n",
      "Second Varibale =7\n",
      "First Varible Before swap : 9 \n",
      " Second varible Before swap : 7\n",
      " After swap : \n",
      " First Variabe : 7 \n",
      " Second Varible : 9 \n"
     ]
    }
   ],
   "source": [
    "first_variable=int(input('First Variable = '))\n",
    "second_variable=int(input('Second Varibale ='))\n",
    "print('First Varible Before swap : {} \\n Second varible Before swap : {}'.format(first_variable, second_variable))\n",
    "first_varible, second_variable = second_variable , first_variable\n",
    "print(\" After swap : \\n First Variabe : {} \\n Second Varible : {} \".format(first_varible, second_variable))"
   ]
  },
  {
   "cell_type": "markdown",
   "id": "c11e8667",
   "metadata": {},
   "source": [
    "### Q5.Write a Python program to generate a random number?"
   ]
  },
  {
   "cell_type": "code",
   "execution_count": 7,
   "id": "bcce3247",
   "metadata": {},
   "outputs": [
    {
     "name": "stdout",
     "output_type": "stream",
     "text": [
      "1\n"
     ]
    }
   ],
   "source": [
    "import random\n",
    "print(random.randint(0,6))"
   ]
  }
 ],
 "metadata": {
  "kernelspec": {
   "display_name": "Python 3 (ipykernel)",
   "language": "python",
   "name": "python3"
  },
  "language_info": {
   "codemirror_mode": {
    "name": "ipython",
    "version": 3
   },
   "file_extension": ".py",
   "mimetype": "text/x-python",
   "name": "python",
   "nbconvert_exporter": "python",
   "pygments_lexer": "ipython3",
   "version": "3.9.7"
  }
 },
 "nbformat": 4,
 "nbformat_minor": 5
}
