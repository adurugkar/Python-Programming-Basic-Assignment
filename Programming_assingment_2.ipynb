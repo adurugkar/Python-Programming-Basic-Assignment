{
 "cells": [
  {
   "cell_type": "markdown",
   "id": "02a75bf0",
   "metadata": {},
   "source": [
    "### Q1.Write a Python program to convert kilometers to miles?"
   ]
  },
  {
   "cell_type": "code",
   "execution_count": 1,
   "id": "8273c857",
   "metadata": {},
   "outputs": [],
   "source": [
    "def km_conver(n):\n",
    "    print( '{} kilometes = {}  miles'.format(n,str(n*.621)) )"
   ]
  },
  {
   "cell_type": "code",
   "execution_count": 2,
   "id": "f43e0477",
   "metadata": {},
   "outputs": [
    {
     "name": "stdout",
     "output_type": "stream",
     "text": [
      "Enter Kilometer : 10\n",
      "10 kilometes = 6.21  miles\n"
     ]
    }
   ],
   "source": [
    "n=int(input('Enter Kilometer : '))\n",
    "km_conver(n)"
   ]
  },
  {
   "cell_type": "markdown",
   "id": "62afac5c",
   "metadata": {},
   "source": [
    "### Q2.Write a Python program to convert Celsius to Fahrenheit?"
   ]
  },
  {
   "cell_type": "code",
   "execution_count": 3,
   "id": "61b9fdef",
   "metadata": {},
   "outputs": [],
   "source": [
    "def tem_con(n):\n",
    "    print(\"{} celsius = {} fahrenheit\".format(n,(n*9/5)+32)) "
   ]
  },
  {
   "cell_type": "code",
   "execution_count": 4,
   "id": "1a459e74",
   "metadata": {},
   "outputs": [
    {
     "name": "stdout",
     "output_type": "stream",
     "text": [
      "Enter tempreture in celsius : 22\n",
      "22 celsius = 71.6 fahrenheit\n"
     ]
    }
   ],
   "source": [
    "t=int(input('Enter tempreture in celsius : '))\n",
    "tem_con(t)"
   ]
  },
  {
   "cell_type": "markdown",
   "id": "aad8e66e",
   "metadata": {},
   "source": [
    "### Q3.Write a Python program to display calendar?"
   ]
  },
  {
   "cell_type": "code",
   "execution_count": 5,
   "id": "8f5946d1",
   "metadata": {},
   "outputs": [
    {
     "name": "stdout",
     "output_type": "stream",
     "text": [
      "Enter year : 2022\n",
      "Enter month in number : 02\n",
      "   February 2022\n",
      "Mo Tu We Th Fr Sa Su\n",
      "    1  2  3  4  5  6\n",
      " 7  8  9 10 11 12 13\n",
      "14 15 16 17 18 19 20\n",
      "21 22 23 24 25 26 27\n",
      "28\n",
      "\n"
     ]
    }
   ],
   "source": [
    "import calendar\n",
    "yy=int(input('Enter year : '))\n",
    "mm=int(input('Enter month in number : '))\n",
    "print(calendar.month(yy,mm))"
   ]
  },
  {
   "cell_type": "markdown",
   "id": "9d9ba11c",
   "metadata": {},
   "source": [
    "### Q4.Write a Python program to solve quadratic equation?"
   ]
  },
  {
   "cell_type": "code",
   "execution_count": 6,
   "id": "06a21a73",
   "metadata": {},
   "outputs": [],
   "source": [
    "import cmath\n",
    "def quad_equ(a,b,c):\n",
    "    discriminat=(b**2)-(4*a*c)\n",
    "    sol_one=(-b+ cmath.sqrt(discriminat))/(2*a)\n",
    "    sol_two=(-b- cmath.sqrt(discriminat))/(2*a)\n",
    "    print(\"{},{}\".format(sol_one, sol_two))"
   ]
  },
  {
   "cell_type": "code",
   "execution_count": 7,
   "id": "7c4f6d77",
   "metadata": {},
   "outputs": [
    {
     "name": "stdout",
     "output_type": "stream",
     "text": [
      "Enter a value : 4\n",
      "Enter b value : 8\n",
      "Enter c value7\n",
      "(-1+0.8660254037844386j),(-1-0.8660254037844386j)\n"
     ]
    }
   ],
   "source": [
    "a,b,c=int(input('Enter a value : ')), int(input('Enter b value : ')), int(input('Enter c value'))\n",
    "quad_equ(a,b,c)"
   ]
  },
  {
   "cell_type": "markdown",
   "id": "140f0715",
   "metadata": {},
   "source": [
    "### Q5.Write a Python program to swap two variables without temp variable?"
   ]
  },
  {
   "cell_type": "code",
   "execution_count": 8,
   "id": "db3c3f1c",
   "metadata": {},
   "outputs": [
    {
     "name": "stdout",
     "output_type": "stream",
     "text": [
      "First Variable = 4\n",
      "Second Varibale = 8\n",
      "First Varible Before swap : 4 \n",
      " Second varible Before swap : 8\n",
      " After swap : \n",
      " First Variabe : 8 \n",
      " Second Varible : 4 \n"
     ]
    }
   ],
   "source": [
    "first_variable=int(input('First Variable = '))\n",
    "second_variable=int(input('Second Varibale = '))\n",
    "print('First Varible Before swap : {} \\n Second varible Before swap : {}'.format(first_variable, second_variable))\n",
    "first_varible, second_variable = second_variable , first_variable\n",
    "print(\" After swap : \\n First Variabe : {} \\n Second Varible : {} \".format(first_varible, second_variable))"
   ]
  }
 ],
 "metadata": {
  "kernelspec": {
   "display_name": "Python 3 (ipykernel)",
   "language": "python",
   "name": "python3"
  },
  "language_info": {
   "codemirror_mode": {
    "name": "ipython",
    "version": 3
   },
   "file_extension": ".py",
   "mimetype": "text/x-python",
   "name": "python",
   "nbconvert_exporter": "python",
   "pygments_lexer": "ipython3",
   "version": "3.9.7"
  }
 },
 "nbformat": 4,
 "nbformat_minor": 5
}
