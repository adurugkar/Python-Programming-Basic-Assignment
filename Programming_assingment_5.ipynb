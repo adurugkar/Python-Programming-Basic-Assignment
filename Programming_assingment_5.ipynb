{
 "cells": [
  {
   "cell_type": "markdown",
   "id": "f9e3b7a0",
   "metadata": {},
   "source": [
    "### Q1.\tWrite a Python Program to Find LCM?"
   ]
  },
  {
   "cell_type": "code",
   "execution_count": 1,
   "id": "482e9961",
   "metadata": {},
   "outputs": [
    {
     "name": "stdout",
     "output_type": "stream",
     "text": [
      "Enter a number : 44\n",
      "Enter a number : 77\n",
      "the LCM of 44 and 77 is 308\n"
     ]
    }
   ],
   "source": [
    "a=int(input('Enter a number : '))\n",
    "b= int(input('Enter a number : '))\n",
    " # find the bigest number\n",
    "if a>b:\n",
    "    bigger=a\n",
    "else:\n",
    "    bigger=b\n",
    "\n",
    "while True:\n",
    "    if bigger % a == 0 and bigger % b ==0:\n",
    "        lcm=bigger\n",
    "        break\n",
    "    bigger+=1\n",
    "print('the LCM of {} and {} is {}'.format(a,b,lcm))"
   ]
  },
  {
   "cell_type": "markdown",
   "id": "62de9859",
   "metadata": {},
   "source": [
    "### Q2.\tWrite a Python Program to Find HCF?"
   ]
  },
  {
   "cell_type": "code",
   "execution_count": 2,
   "id": "a2495b51",
   "metadata": {},
   "outputs": [
    {
     "name": "stdout",
     "output_type": "stream",
     "text": [
      "Enter num1 : 22\n",
      "Enter num1 : 49\n",
      "The hcf of 22 and 49 is 1 \n"
     ]
    }
   ],
   "source": [
    "# HCF highest common factor\n",
    "# is the lagrest positive intger that evenly divides the numbers without a remainder\n",
    "\n",
    "a=int(input('Enter num1 : '))\n",
    "b=int(input('Enter num1 : '))\n",
    "\n",
    "#lets find biggest number\n",
    "if a<b:\n",
    "    smaller=a\n",
    "else:\n",
    "    smaller=b\n",
    "\n",
    "hcf=0\n",
    "for i in range(a,smaller+1):\n",
    "    if a%i==0 and b%i==0:\n",
    "        hcf=i\n",
    "else:\n",
    "    hcf=1\n",
    "\n",
    "print('The hcf of {} and {} is {} '.format(a,b,hcf))"
   ]
  },
  {
   "cell_type": "markdown",
   "id": "45f897af",
   "metadata": {},
   "source": [
    "### Q3.\tWrite a Python Program to Convert Decimal to Binary, Octal and Hexadecimal?"
   ]
  },
  {
   "cell_type": "code",
   "execution_count": 3,
   "id": "eebc1751",
   "metadata": {},
   "outputs": [
    {
     "name": "stdout",
     "output_type": "stream",
     "text": [
      "Enter number : 55\n",
      "55 in Binary :  0b110111\n",
      "55 in Octal :  0o67\n",
      "55 in Hexadecimal :  0x37\n"
     ]
    }
   ],
   "source": [
    "num=int(input('Enter number : '))\n",
    "print(num,'in Binary : ',bin(num))\n",
    "print(num,'in Octal : ',oct(num))\n",
    "print(num,'in Hexadecimal : ',hex(num))"
   ]
  },
  {
   "cell_type": "markdown",
   "id": "40f84c87",
   "metadata": {},
   "source": [
    "### Q4.\tWrite a Python Program To Find ASCII value of a character?"
   ]
  },
  {
   "cell_type": "code",
   "execution_count": 4,
   "id": "8a950287",
   "metadata": {},
   "outputs": [
    {
     "name": "stdout",
     "output_type": "stream",
     "text": [
      "Enter a charenter : A\n",
      "Ascii value of A is 65\n"
     ]
    }
   ],
   "source": [
    "string=input('Enter a charenter : ')\n",
    "#ord gives the ASCII value of a character\n",
    "print('Ascii value of {} is {}'.format(string,ord(string)))"
   ]
  },
  {
   "cell_type": "markdown",
   "id": "996dc739",
   "metadata": {},
   "source": [
    "### Q5.\tWrite a Python Program to Make a Simple Calculator with 4 basic mathematical operations?"
   ]
  },
  {
   "cell_type": "code",
   "execution_count": 5,
   "id": "05018d7e",
   "metadata": {},
   "outputs": [
    {
     "name": "stdout",
     "output_type": "stream",
     "text": [
      "Enter num1 :46\n",
      "Enter num2 :94\n",
      "Enter + to add : \n",
      "Enter - to Sub :\n",
      "Enter * to multi :\n",
      "Enter / to div : +\n",
      "46.0 + 94.0 = 140.0\n"
     ]
    }
   ],
   "source": [
    "x = float(input(\"Enter num1 :\"))\n",
    "y = float(input(\"Enter num2 :\"))\n",
    "\n",
    "op = input(\"Enter + to add : \\nEnter - to Sub :\\nEnter * to multi :\\nEnter / to div : \") \n",
    "\n",
    "add = x + y\n",
    "sub = x - y\n",
    "mul = x * y\n",
    "\n",
    "\n",
    "if op == \"+\":\n",
    "    print(\"{} + {} = {}\".format(x,y,add))\n",
    "elif op == \"-\":\n",
    "    print(\"{} - {} = {}\".format(x,y,sub))\n",
    "elif op == \"*\":\n",
    "    print(\"{} * {} = {}\".format(x,y,mul))\n",
    "elif op == \"/\":\n",
    "    if num1 == 0 or num2 == 0:\n",
    "        print(\"Division with zero is not possible\")\n",
    "    else:\n",
    "        div = x / y\n",
    "        print(\"{} / {} = {}\".format(x,y,div))\n",
    "else:\n",
    "    print(\"Invalid input\")"
   ]
  }
 ],
 "metadata": {
  "kernelspec": {
   "display_name": "Python 3 (ipykernel)",
   "language": "python",
   "name": "python3"
  },
  "language_info": {
   "codemirror_mode": {
    "name": "ipython",
    "version": 3
   },
   "file_extension": ".py",
   "mimetype": "text/x-python",
   "name": "python",
   "nbconvert_exporter": "python",
   "pygments_lexer": "ipython3",
   "version": "3.9.7"
  }
 },
 "nbformat": 4,
 "nbformat_minor": 5
}
